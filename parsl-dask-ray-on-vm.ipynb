{
 "cells": [
  {
   "cell_type": "markdown",
   "metadata": {},
   "source": [
    "## Comparing Ray,  Parsl & Dask on a simple multicore system\n",
    "This notebook compares Parsl and Dask on a trivial bag-of-task problem running on a ubuntu aws c5a.4xlarge.   the VM has 8 real cores (capable of 16 fully concurrent threads.)\n",
    "\n",
    "The basic test is to compute pi 100 times using 1, 2, 4, 5, 10 and 100 concurrent tasks.  \n"
   ]
  },
  {
   "cell_type": "code",
   "execution_count": 1,
   "metadata": {},
   "outputs": [],
   "source": [
    "#!pip install parsl"
   ]
  },
  {
   "cell_type": "code",
   "execution_count": 2,
   "metadata": {},
   "outputs": [],
   "source": [
    "#pip install \"dask[bag]\" --upgrade"
   ]
  },
  {
   "cell_type": "code",
   "execution_count": 3,
   "metadata": {},
   "outputs": [],
   "source": [
    "import dask\n",
    "import dask.bag as db"
   ]
  },
  {
   "cell_type": "code",
   "execution_count": 4,
   "metadata": {},
   "outputs": [],
   "source": [
    "def do_pi(numpoints):\n",
    "    from random import random\n",
    "    inside = 0\n",
    "    for i in range(numpoints):\n",
    "        x, y = random(), random()  # Drop a random point in the box.\n",
    "        if x**2 + y**2 < 1:        # Count points within the circle.\n",
    "            inside += 1\n",
    "    pi = inside*4 / numpoints\n",
    "    return pi\n"
   ]
  },
  {
   "cell_type": "markdown",
   "metadata": {},
   "source": [
    "compute pi with 10\\*\\*8 interation which is about the same work as 100 iterations of 10**6."
   ]
  },
  {
   "cell_type": "code",
   "execution_count": 5,
   "metadata": {},
   "outputs": [
    {
     "name": "stdout",
     "output_type": "stream",
     "text": [
      "pi = 3.14168156\n",
      "29.72766661643982\n"
     ]
    }
   ],
   "source": [
    "import time\n",
    "t0 = time.time()\n",
    "x = do_pi((10**6)*100)\n",
    "print(\"pi =\", x)\n",
    "t1 =time.time()\n",
    "print(t1-t0)"
   ]
  },
  {
   "cell_type": "markdown",
   "metadata": {},
   "source": [
    "the function do_dask uses dask bags to express the concurrency.   we start with a list of 100 copies of the  value 10\\*\\*6.  next create a bag from this list and partition this bag into \"nparts\" partitions.  We use a lambda expression to map the elements of the bag to the do_pi function and then compute the mean of the values. "
   ]
  },
  {
   "cell_type": "code",
   "execution_count": 6,
   "metadata": {},
   "outputs": [],
   "source": [
    "import time"
   ]
  },
  {
   "cell_type": "code",
   "execution_count": 7,
   "metadata": {},
   "outputs": [],
   "source": [
    "def do_dask(nparts):\n",
    "    seq = [10**6 for i in range(100)]\n",
    "    bagseq = db.from_sequence(seq, npartitions = nparts)\n",
    "    t0 = time.time()\n",
    "    c = bagseq.map(lambda x: do_pi(x)).mean()\n",
    "    x =c.compute()\n",
    "    t1 =time.time()\n",
    "    print(\"time =\", t1-t0)\n",
    "    return t1-t0"
   ]
  },
  {
   "cell_type": "markdown",
   "metadata": {},
   "source": [
    "We now run do task for different partition sizes.   if the partition size is x then there will be x threads assigned to the computation."
   ]
  },
  {
   "cell_type": "code",
   "execution_count": 8,
   "metadata": {},
   "outputs": [
    {
     "name": "stdout",
     "output_type": "stream",
     "text": [
      "time = 28.0891375541687\n",
      "time = 14.39387845993042\n",
      "time = 7.553773880004883\n",
      "time = 6.106798887252808\n",
      "time = 4.172786474227905\n",
      "time = 3.8472983837127686\n",
      "time = 3.1572248935699463\n"
     ]
    }
   ],
   "source": [
    "blocklist = [1, 2, 4, 5, 10, 20, 100]\n",
    "dask_vals = []\n",
    "for i in blocklist:\n",
    "    dask_vals.append(do_dask(i))"
   ]
  },
  {
   "cell_type": "code",
   "execution_count": 29,
   "metadata": {},
   "outputs": [],
   "source": [
    "#!pip install \"dask[distributed]\" --upgrade"
   ]
  },
  {
   "cell_type": "markdown",
   "metadata": {},
   "source": [
    "Dask also has a distributed package.   this will set up a cluster as snown below."
   ]
  },
  {
   "cell_type": "code",
   "execution_count": 9,
   "metadata": {},
   "outputs": [],
   "source": [
    "from dask.distributed import Client, progress, fire_and_forget"
   ]
  },
  {
   "cell_type": "code",
   "execution_count": 10,
   "metadata": {},
   "outputs": [
    {
     "data": {
      "text/html": [
       "<table style=\"border: 2px solid white;\">\n",
       "<tr>\n",
       "<td style=\"vertical-align: top; border: 0px solid white\">\n",
       "<h3 style=\"text-align: left;\">Client</h3>\n",
       "<ul style=\"text-align: left; list-style: none; margin: 0; padding: 0;\">\n",
       "  <li><b>Scheduler: </b>tcp://127.0.0.1:35327</li>\n",
       "  <li><b>Dashboard: </b><a href='http://127.0.0.1:8787/status' target='_blank'>http://127.0.0.1:8787/status</a>\n",
       "</ul>\n",
       "</td>\n",
       "<td style=\"vertical-align: top; border: 0px solid white\">\n",
       "<h3 style=\"text-align: left;\">Cluster</h3>\n",
       "<ul style=\"text-align: left; list-style:none; margin: 0; padding: 0;\">\n",
       "  <li><b>Workers: </b>4</li>\n",
       "  <li><b>Cores: </b>16</li>\n",
       "  <li><b>Memory: </b>33.30 GB</li>\n",
       "</ul>\n",
       "</td>\n",
       "</tr>\n",
       "</table>"
      ],
      "text/plain": [
       "<Client: 'tcp://127.0.0.1:35327' processes=4 threads=16, memory=33.30 GB>"
      ]
     },
     "execution_count": 10,
     "metadata": {},
     "output_type": "execute_result"
    }
   ],
   "source": [
    "cl = Client()\n",
    "cl"
   ]
  },
  {
   "cell_type": "markdown",
   "metadata": {},
   "source": [
    "now if we partition our bag into 4 sets which is the same size as our cluster we can do the computation as follows.  the result is about the same as we saw above."
   ]
  },
  {
   "cell_type": "code",
   "execution_count": 11,
   "metadata": {},
   "outputs": [
    {
     "name": "stdout",
     "output_type": "stream",
     "text": [
      "3.1415610400000005\n",
      "8.111969470977783\n"
     ]
    }
   ],
   "source": [
    "seq = [10**6 for i in range(100)]\n",
    "bagseq = db.from_sequence(seq, npartitions = 4)\n",
    "t0 = time.time()\n",
    "x = cl.compute(bagseq.map(lambda x: do_pi(x)).mean())\n",
    "while x.status != 'finished':\n",
    "    time.sleep(.3)\n",
    "#x =cl.compute(bs)\n",
    "t1 = time.time()\n",
    "print(x.result())\n",
    "print(t1-t0)"
   ]
  },
  {
   "cell_type": "markdown",
   "metadata": {},
   "source": [
    "## Parsl\n",
    "For parsl we will use a local high throughput executor as configured below.   NOTE: this does not work on Windows10, but it is fine on our Azure ubuntu data science VM"
   ]
  },
  {
   "cell_type": "code",
   "execution_count": 12,
   "metadata": {},
   "outputs": [],
   "source": [
    "from parsl import python_app\n",
    "import parsl"
   ]
  },
  {
   "cell_type": "code",
   "execution_count": 13,
   "metadata": {},
   "outputs": [],
   "source": [
    "from parsl.providers import LocalProvider\n",
    "from parsl.channels import LocalChannel\n",
    "from parsl.config import Config\n",
    "from parsl.executors import HighThroughputExecutor\n",
    "\n",
    "local_htex = Config(\n",
    "    executors=[\n",
    "        HighThroughputExecutor(\n",
    "            label=\"htex_Local\",\n",
    "            worker_debug=True,\n",
    "            cores_per_worker=1,\n",
    "            provider=LocalProvider(\n",
    "                channel=LocalChannel(),\n",
    "                init_blocks=1,\n",
    "                max_blocks=1,\n",
    "            ),\n",
    "        )\n",
    "    ],\n",
    "    strategy=None,\n",
    ")"
   ]
  },
  {
   "cell_type": "code",
   "execution_count": 14,
   "metadata": {},
   "outputs": [
    {
     "data": {
      "text/plain": [
       "<parsl.dataflow.dflow.DataFlowKernel at 0x7f3b0f121310>"
      ]
     },
     "execution_count": 14,
     "metadata": {},
     "output_type": "execute_result"
    },
    {
     "name": "stderr",
     "output_type": "stream",
     "text": [
      "Process HTEX-Interchange:\n",
      "Traceback (most recent call last):\n",
      "  File \"/home/ubuntu/anaconda3/lib/python3.7/multiprocessing/process.py\", line 297, in _bootstrap\n",
      "    self.run()\n",
      "  File \"/home/ubuntu/anaconda3/lib/python3.7/multiprocessing/process.py\", line 99, in run\n",
      "    self._target(*self._args, **self._kwargs)\n",
      "  File \"/home/ubuntu/anaconda3/lib/python3.7/site-packages/parsl/executors/high_throughput/interchange.py\", line 576, in starter\n",
      "    ic.start()\n",
      "  File \"/home/ubuntu/anaconda3/lib/python3.7/site-packages/zmq/sugar/poll.py\", line 99, in poll\n",
      "    return zmq_poll(self.sockets, timeout=timeout)\n",
      "  File \"/home/ubuntu/anaconda3/lib/python3.7/site-packages/parsl/executors/high_throughput/interchange.py\", line 378, in start\n",
      "    self.socks = dict(poller.poll(timeout=poll_period))\n",
      "  File \"zmq/backend/cython/_poll.pyx\", line 123, in zmq.backend.cython._poll.zmq_poll\n",
      "  File \"zmq/backend/cython/checkrc.pxd\", line 12, in zmq.backend.cython.checkrc._check_rc\n",
      "KeyboardInterrupt\n"
     ]
    }
   ],
   "source": [
    "parsl.clear()\n",
    "\n",
    "parsl.load(local_htex)\n"
   ]
  },
  {
   "cell_type": "code",
   "execution_count": 15,
   "metadata": {},
   "outputs": [],
   "source": [
    "@python_app\n",
    "def pi(numpoints):\n",
    "    from random import random\n",
    "    inside = 0\n",
    "    for i in range(numpoints):\n",
    "        x, y = random(), random()  # Drop a random point in the box.\n",
    "        if x**2 + y**2 < 1:        # Count points within the circle.\n",
    "            inside += 1\n",
    "    pi = inside*4 / numpoints\n",
    "    return pi\n"
   ]
  },
  {
   "cell_type": "markdown",
   "metadata": {},
   "source": [
    "The following do_parsl function mirrors the do_dask function.    It divides the 100 tasks into chuncks of size blocks and repeats them 100/blocks times.   so if blocks == 1 then it is a sequential execution and if blocks == 100 the we fire off 100 pi funcitions and wait until they are all done."
   ]
  },
  {
   "cell_type": "code",
   "execution_count": 16,
   "metadata": {},
   "outputs": [],
   "source": [
    "def do_parsl(blocks):\n",
    "    t1 = time.time()\n",
    "    vals =  0\n",
    "    for j in range(int(100/blocks)):\n",
    "        clist = []\n",
    "        for i in range(blocks):\n",
    "            clist.append(pi(10**6))\n",
    "        for i in range(blocks):\n",
    "            vals += clist[i].result()\n",
    "    t2 = time.time()\n",
    "    print('total time=', t2-t1 ) \n",
    "    return t2-t1\n"
   ]
  },
  {
   "cell_type": "code",
   "execution_count": 17,
   "metadata": {},
   "outputs": [
    {
     "name": "stdout",
     "output_type": "stream",
     "text": [
      "total time= 31.47273588180542\n",
      "total time= 15.408411026000977\n",
      "total time= 7.900084495544434\n",
      "total time= 6.412240028381348\n",
      "total time= 4.567803144454956\n",
      "total time= 4.67842960357666\n",
      "total time= 4.03715705871582\n"
     ]
    }
   ],
   "source": [
    "blocklist = [1, 2, 4, 5, 10, 20, 100]\n",
    "parsl_vals = []\n",
    "for i in blocklist:\n",
    "    parsl_vals.append(do_parsl(i))"
   ]
  },
  {
   "cell_type": "code",
   "execution_count": 18,
   "metadata": {},
   "outputs": [
    {
     "data": {
      "text/plain": [
       "[31.47273588180542,\n",
       " 15.408411026000977,\n",
       " 7.900084495544434,\n",
       " 6.412240028381348,\n",
       " 4.567803144454956,\n",
       " 4.67842960357666,\n",
       " 4.03715705871582]"
      ]
     },
     "execution_count": 18,
     "metadata": {},
     "output_type": "execute_result"
    }
   ],
   "source": [
    "parsl_vals"
   ]
  },
  {
   "cell_type": "code",
   "execution_count": 19,
   "metadata": {},
   "outputs": [
    {
     "name": "stderr",
     "output_type": "stream",
     "text": [
      "2021-03-29 18:02:50,696\tINFO services.py:1174 -- View the Ray dashboard at \u001b[1m\u001b[32mhttp://127.0.0.1:8265\u001b[39m\u001b[22m\n"
     ]
    },
    {
     "data": {
      "text/plain": [
       "{'node_ip_address': '172.31.55.47',\n",
       " 'raylet_ip_address': '172.31.55.47',\n",
       " 'redis_address': '172.31.55.47:6379',\n",
       " 'object_store_address': '/tmp/ray/session_2021-03-29_18-02-50_193583_1600/sockets/plasma_store',\n",
       " 'raylet_socket_name': '/tmp/ray/session_2021-03-29_18-02-50_193583_1600/sockets/raylet',\n",
       " 'webui_url': '127.0.0.1:8265',\n",
       " 'session_dir': '/tmp/ray/session_2021-03-29_18-02-50_193583_1600',\n",
       " 'metrics_export_port': 62782,\n",
       " 'node_id': 'fbcee9a885733748fc94f4faf62ff427da8705e2667f068d4916c94e'}"
      ]
     },
     "execution_count": 19,
     "metadata": {},
     "output_type": "execute_result"
    }
   ],
   "source": [
    "import ray\n",
    "import socket\n",
    "ray.init()"
   ]
  },
  {
   "cell_type": "code",
   "execution_count": 20,
   "metadata": {},
   "outputs": [],
   "source": [
    "from random import random\n",
    "@ray.remote\n",
    "def do_raypi(numpoints):\n",
    "    inside = 0\n",
    "    for i in range(numpoints):\n",
    "        x, y = random(), random()  # Drop a random point in the box.\n",
    "        if x**2 + y**2 < 1:        # Count points within the circle.\n",
    "            inside += 1\n",
    "    pi = inside*4 / numpoints\n",
    "    return pi\n"
   ]
  },
  {
   "cell_type": "code",
   "execution_count": 22,
   "metadata": {},
   "outputs": [
    {
     "name": "stdout",
     "output_type": "stream",
     "text": [
      "total time= 31.17297625541687\n",
      "total time= 15.663851261138916\n",
      "total time= 7.880035638809204\n",
      "total time= 6.357422828674316\n",
      "total time= 4.382320165634155\n",
      "total time= 4.024454593658447\n",
      "total time= 3.2606256008148193\n"
     ]
    }
   ],
   "source": [
    "def do_ray(blocks):\n",
    "    t1 = time.time()\n",
    "    for j in range(int(100/blocks)):\n",
    "        clist = [do_raypi.remote(10**6) for _ in range(blocks)]\n",
    "        valslist = [ray.get(x) for x in clist] \n",
    "    t2 = time.time()\n",
    "    print('total time=', t2-t1 ) \n",
    "    return t2-t1\n",
    "\n",
    "blocklist = [1, 2, 4, 5, 10, 20, 100]\n",
    "ray_vals = []\n",
    "for i in blocklist:\n",
    "    ray_vals.append(do_ray(i))"
   ]
  },
  {
   "cell_type": "code",
   "execution_count": 23,
   "metadata": {},
   "outputs": [],
   "source": [
    "import matplotlib.pyplot as mp"
   ]
  },
  {
   "cell_type": "code",
   "execution_count": 24,
   "metadata": {},
   "outputs": [],
   "source": [
    "x = [3,4,5,6,7]"
   ]
  },
  {
   "cell_type": "code",
   "execution_count": 25,
   "metadata": {},
   "outputs": [
    {
     "data": {
      "text/plain": [
       "[7.900084495544434,\n",
       " 6.412240028381348,\n",
       " 4.567803144454956,\n",
       " 4.67842960357666,\n",
       " 4.03715705871582]"
      ]
     },
     "execution_count": 25,
     "metadata": {},
     "output_type": "execute_result"
    }
   ],
   "source": [
    "parsl_vals[2:]"
   ]
  },
  {
   "cell_type": "code",
   "execution_count": 26,
   "metadata": {},
   "outputs": [
    {
     "data": {
      "text/plain": [
       "[<matplotlib.lines.Line2D at 0x7f3863d91150>]"
      ]
     },
     "execution_count": 26,
     "metadata": {},
     "output_type": "execute_result"
    },
    {
     "data": {
      "image/png": "[encoded data removed]",
      "text/plain": [
       "<Figure size 432x288 with 1 Axes>"
      ]
     },
     "metadata": {
      "needs_background": "light"
     },
     "output_type": "display_data"
    }
   ],
   "source": [
    "mp.plot(x, parsl_vals[2:])\n",
    "mp.plot(x, dask_vals[2:])\n",
    "mp.plot(x, ray_vals[2:])"
   ]
  },
  {
   "cell_type": "code",
   "execution_count": 29,
   "metadata": {},
   "outputs": [
    {
     "data": {
      "text/plain": [
       "7.79576702716059"
      ]
     },
     "execution_count": 29,
     "metadata": {},
     "output_type": "execute_result"
    }
   ],
   "source": [
    "parsl_vals[0]/parsl_vals[6]"
   ]
  },
  {
   "cell_type": "code",
   "execution_count": 30,
   "metadata": {},
   "outputs": [
    {
     "data": {
      "text/plain": [
       "8.896780717577478"
      ]
     },
     "execution_count": 30,
     "metadata": {},
     "output_type": "execute_result"
    }
   ],
   "source": [
    "dask_vals[0]/dask_vals[6]"
   ]
  },
  {
   "cell_type": "code",
   "execution_count": 31,
   "metadata": {},
   "outputs": [
    {
     "data": {
      "text/plain": [
       "9.560427988919319"
      ]
     },
     "execution_count": 31,
     "metadata": {},
     "output_type": "execute_result"
    }
   ],
   "source": [
    "ray_vals[0]/ray_vals[6]"
   ]
  },
  {
   "cell_type": "code",
   "execution_count": null,
   "metadata": {},
   "outputs": [],
   "source": []
  }
 ],
 "metadata": {
  "kernelspec": {
   "display_name": "Python 3",
   "language": "python",
   "name": "python3"
  },
  "language_info": {
   "codemirror_mode": {
    "name": "ipython",
    "version": 3
   },
   "file_extension": ".py",
   "mimetype": "text/x-python",
   "name": "python",
   "nbconvert_exporter": "python",
   "pygments_lexer": "ipython3",
   "version": "3.8.8"
  }
 },
 "nbformat": 4,
 "nbformat_minor": 4
}
